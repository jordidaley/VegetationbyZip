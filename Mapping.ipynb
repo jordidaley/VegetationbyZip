{
 "cells": [
  {
   "cell_type": "code",
   "execution_count": 5,
   "id": "b01aee8a-7c5a-4270-8381-c28415aa8b00",
   "metadata": {},
   "outputs": [],
   "source": [
    "import ee\n",
    "import geemap\n",
    "import collections\n",
    "collections.Callable = collections.abc.Callable\n",
    "ee.Initialize()\n",
    "import pandas as pd"
   ]
  },
  {
   "cell_type": "code",
   "execution_count": 46,
   "id": "49d0bc8b-5925-43d8-9e2d-db30d17aab27",
   "metadata": {},
   "outputs": [],
   "source": [
    "dicto = pd.read_csv('zipIncome.csv').to_dict()\n",
    "data = ee.Dictionary(dicto)"
   ]
  },
  {
   "cell_type": "code",
   "execution_count": 52,
   "id": "f9f960bc-8497-4021-a0b1-d020fc5863a8",
   "metadata": {},
   "outputs": [
    {
     "data": {
      "application/vnd.jupyter.widget-view+json": {
       "model_id": "ed5840ee1bfd4ecfb48862af77d9bcb8",
       "version_major": 2,
       "version_minor": 0
      },
      "text/plain": [
       "Map(center=[20, 0], controls=(WidgetControl(options=['position', 'transparent_bg'], widget=HBox(children=(Togg…"
      ]
     },
     "metadata": {},
     "output_type": "display_data"
    }
   ],
   "source": [
    "Map = geemap.Map()\n",
    "\n",
    "zips = ee.FeatureCollection(\"TIGER/2010/ZCTA5\")\n",
    "states = ee.FeatureCollection(\"TIGER/2016/States\")\n",
    "\n",
    "state = states.filter(ee.Filter.eq('NAME', 'California'))\n",
    "ca = state.geometry()\n",
    "zipsRange = zips.filter(ee.Filter.gte('GEOID10', '89010')) \\\n",
    "  .filter(ee.Filter.lte('GEOID10', '97635'))\n",
    "\n",
    "def addCenter(feature):\n",
    "    center = feature.centroid().geometry()\n",
    "    insideCa = ca.contains(center, 1)\n",
    "    return feature.set('containedIn', insideCa)\n",
    "\n",
    "zipCenter = zipsRange.map(addCenter)\n",
    "\n",
    "# filter the feature on metadata\n",
    "zipInCa = zipCenter.filter(ee.Filter.eq(\"containedIn\", True))\n",
    "                          \n",
    "def addIncome(feature):\n",
    "    zippy = feature.get('GEOID10')\n",
    "    if data.contains(zippy)==True:\n",
    "        income = data.get(zippy)\n",
    "        return feature.set('medianIncome', income)\n",
    "    else:\n",
    "        return feature.set('medianIncome', 0)\n",
    "\n",
    "zipIncome = zipInCa.map(addIncome)\n",
    "\n",
    "visParams = {'color': 'red'}\n",
    "Map.addLayer(zipIncome, visParams, 'zip')\n",
    "Map.centerObject(ca)\n",
    "Map"
   ]
  },
  {
   "cell_type": "code",
   "execution_count": 40,
   "id": "12170a3f-7595-49dc-b24c-4cd0cf6a50ab",
   "metadata": {},
   "outputs": [
    {
     "name": "stdout",
     "output_type": "stream",
     "text": [
      "<class 'dict'>\n"
     ]
    }
   ],
   "source": [
    "first = zipIncome.first()\n",
    "print(type(first.get('medianIncome').getInfo()))"
   ]
  },
  {
   "cell_type": "code",
   "execution_count": null,
   "id": "ffed40d9-c5fb-4c7e-8db8-2277e7573abf",
   "metadata": {},
   "outputs": [],
   "source": []
  }
 ],
 "metadata": {
  "kernelspec": {
   "display_name": "Python 3 (ipykernel)",
   "language": "python",
   "name": "python3"
  },
  "language_info": {
   "codemirror_mode": {
    "name": "ipython",
    "version": 3
   },
   "file_extension": ".py",
   "mimetype": "text/x-python",
   "name": "python",
   "nbconvert_exporter": "python",
   "pygments_lexer": "ipython3",
   "version": "3.10.4"
  }
 },
 "nbformat": 4,
 "nbformat_minor": 5
}
