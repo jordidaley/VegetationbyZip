{
 "cells": [
  {
   "cell_type": "code",
   "execution_count": 1,
   "id": "46043a14-e45c-4d2a-8435-4a0c5ac81e81",
   "metadata": {},
   "outputs": [],
   "source": [
    "import ee"
   ]
  },
  {
   "cell_type": "code",
   "execution_count": 2,
   "id": "7ac881a6-4151-4ff8-aec0-088da2460762",
   "metadata": {},
   "outputs": [],
   "source": [
    "import geemap"
   ]
  },
  {
   "cell_type": "code",
   "execution_count": 3,
   "id": "ad6781d4-3c0e-4c8b-ad45-fc65ddd0e05e",
   "metadata": {},
   "outputs": [],
   "source": [
    "import collections\n",
    "collections.Callable = collections.abc.Callable"
   ]
  },
  {
   "cell_type": "code",
   "execution_count": 7,
   "id": "aad9bf05-304e-4f2c-853f-9a8cc8460122",
   "metadata": {},
   "outputs": [],
   "source": [
    "ee.Initialize()"
   ]
  },
  {
   "cell_type": "code",
   "execution_count": 8,
   "id": "05ca2cc3-7409-46a7-91d9-fb94c88e04d6",
   "metadata": {},
   "outputs": [],
   "source": [
    "javascript_code = \"\"\"\n",
    "var zip = ee.FeatureCollection(\"TIGER/2010/ZCTA5\");\n",
    "var states = ee.FeatureCollection(\"TIGER/2016/States\");\n",
    "\n",
    "var state = states.filter(ee.Filter.eq('NAME', 'California'))\n",
    "var ca = state.geometry()\n",
    "var zips = zip.filter(ee.Filter.gte('GEOID10', '89010'))\n",
    "  .filter(ee.Filter.lte('GEOID10', '97635'))\n",
    "\n",
    "var addCenter = function(feature){\n",
    "  var center = feature.centroid().geometry();\n",
    "  var insideCa = ca.contains(center, 1);\n",
    "  return feature.set('containedIn', insideCa);\n",
    "};\n",
    "\n",
    "var zipCenter = zips.map(addCenter);\n",
    "\n",
    "// filter the feature on metadata \n",
    "var zipInCa = zipCenter.filter(ee.Filter.eq(\"containedIn\", true));\n",
    "\n",
    "var visParams = {'color': 'red'}\n",
    "Map.addLayer(zipInCa, visParams, 'zip');\n",
    "\"\"\""
   ]
  },
  {
   "cell_type": "code",
   "execution_count": 9,
   "id": "cbad8229-208a-4ff8-928d-f6ce370d267a",
   "metadata": {},
   "outputs": [
    {
     "name": "stdout",
     "output_type": "stream",
     "text": [
      "import ee\n",
      "import geemap\n",
      "Map = geemap.Map()\n",
      "\n",
      "zip = ee.FeatureCollection(\"TIGER/2010/ZCTA5\")\n",
      "states = ee.FeatureCollection(\"TIGER/2016/States\")\n",
      "\n",
      "state = states.filter(ee.Filter.eq('NAME', 'California'))\n",
      "ca = state.geometry()\n",
      "zips = zip.filter(ee.Filter.gte('GEOID10', '89010')) \\\n",
      "  .filter(ee.Filter.lte('GEOID10', '97635'))\n",
      "\n",
      "def addCenter(feature):\n",
      "  center = feature.centroid().geometry()\n",
      "  insideCa = ca.contains(center, 1)\n",
      "  return feature.set('containedIn', insideCa)\n",
      "\n",
      "zipCenter = zips.map(addCenter)\n",
      "\n",
      "# filter the feature on metadata\n",
      "zipInCa = zipCenter.filter(ee.Filter.eq(\"containedIn\", True))\n",
      "\n",
      "visParams = {'color': 'red'}\n",
      "Map.addLayer(zipInCa, visParams, 'zip')\n",
      "Map\n"
     ]
    }
   ],
   "source": [
    "lines = geemap.js_snippet_to_py(\n",
    "    javascript_code, add_new_cell=False,\n",
    "    import_ee=True, import_geemap=True, show_map=True)\n",
    "for line in lines:\n",
    "    print(line.rstrip())"
   ]
  },
  {
   "cell_type": "code",
   "execution_count": null,
   "id": "666eeb43-99db-47fd-a70d-cb563d11de70",
   "metadata": {},
   "outputs": [],
   "source": []
  }
 ],
 "metadata": {
  "kernelspec": {
   "display_name": "Python 3 (ipykernel)",
   "language": "python",
   "name": "python3"
  },
  "language_info": {
   "codemirror_mode": {
    "name": "ipython",
    "version": 3
   },
   "file_extension": ".py",
   "mimetype": "text/x-python",
   "name": "python",
   "nbconvert_exporter": "python",
   "pygments_lexer": "ipython3",
   "version": "3.10.4"
  }
 },
 "nbformat": 4,
 "nbformat_minor": 5
}
