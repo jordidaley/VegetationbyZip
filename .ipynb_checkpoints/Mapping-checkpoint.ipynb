{
 "cells": [
  {
   "cell_type": "code",
   "execution_count": 1,
   "id": "b01aee8a-7c5a-4270-8381-c28415aa8b00",
   "metadata": {},
   "outputs": [],
   "source": [
    "import ee\n",
    "import geemap\n",
    "import collections\n",
    "collections.Callable = collections.abc.Callable\n",
    "ee.Initialize()\n",
    "import pandas as pd"
   ]
  },
  {
   "cell_type": "code",
   "execution_count": 54,
   "id": "49d0bc8b-5925-43d8-9e2d-db30d17aab27",
   "metadata": {},
   "outputs": [],
   "source": [
    "dicto = pd.read_csv('zipIncome.csv').to_dict()\n",
    "for key in dicto:\n",
    "    dicto[key] = dicto[key].get(0)"
   ]
  },
  {
   "cell_type": "markdown",
   "id": "281cc768-b151-4614-aed4-48d812de29c4",
   "metadata": {
    "tags": []
   },
   "source": [
    "### progress! just need them to actually have income!"
   ]
  },
  {
   "cell_type": "code",
   "execution_count": 82,
   "id": "f9f960bc-8497-4021-a0b1-d020fc5863a8",
   "metadata": {
    "tags": []
   },
   "outputs": [],
   "source": [
    "Map = geemap.Map()\n",
    "\n",
    "zips = ee.FeatureCollection(\"TIGER/2010/ZCTA5\")\n",
    "states = ee.FeatureCollection(\"TIGER/2016/States\")\n",
    "\n",
    "state = states.filter(ee.Filter.eq('NAME', 'California'))\n",
    "ca = state.geometry()\n",
    "\n",
    "def addCenter(feature):\n",
    "    center = feature.centroid().geometry()\n",
    "    insideCa = ca.contains(center, 1)\n",
    "    return feature.set('containedIn', insideCa)\n",
    "\n",
    "zipCenter = zips.map(addCenter)\n",
    "\n",
    "# filter the feature on metadata\n",
    "zipCa = zipCenter.filter(ee.Filter.eq(\"containedIn\", True))\n",
    "\n",
    "keys = list(dicto.keys())\n",
    "\n",
    "zipList = zipCa.filter(ee.Filter.inList(\"GEOID10\", keys))"
   ]
  },
  {
   "cell_type": "code",
   "execution_count": 83,
   "id": "decc3252-c031-49cb-b69e-5bb3e72fdac0",
   "metadata": {},
   "outputs": [
    {
     "data": {
      "application/vnd.jupyter.widget-view+json": {
       "model_id": "1e29261040284f559c8a22f290e3eacb",
       "version_major": 2,
       "version_minor": 0
      },
      "text/plain": [
       "Map(center=[20, 0], controls=(WidgetControl(options=['position', 'transparent_bg'], widget=HBox(children=(Togg…"
      ]
     },
     "metadata": {},
     "output_type": "display_data"
    }
   ],
   "source": [
    "data = ee.Dictionary(dicto)\n",
    "\n",
    "def addIncome(feature):\n",
    "    zippy = feature.get('GEOID10')\n",
    "    income = data.get(zippy)\n",
    "    return feature.set('medianIncome', income)\n",
    "\n",
    "zipIncome = zipList.map(addIncome)\n",
    "\n",
    "visParams = {'color': 'red'}\n",
    "Map.addLayer(zipIncome, visParams, 'zip')\n",
    "Map.centerObject(ca)\n",
    "Map"
   ]
  },
  {
   "cell_type": "code",
   "execution_count": null,
   "id": "ce1d0206-337a-4c79-a68a-9ad7b90587b2",
   "metadata": {},
   "outputs": [],
   "source": []
  }
 ],
 "metadata": {
  "kernelspec": {
   "display_name": "Python 3 (ipykernel)",
   "language": "python",
   "name": "python3"
  },
  "language_info": {
   "codemirror_mode": {
    "name": "ipython",
    "version": 3
   },
   "file_extension": ".py",
   "mimetype": "text/x-python",
   "name": "python",
   "nbconvert_exporter": "python",
   "pygments_lexer": "ipython3",
   "version": "3.10.4"
  }
 },
 "nbformat": 4,
 "nbformat_minor": 5
}
