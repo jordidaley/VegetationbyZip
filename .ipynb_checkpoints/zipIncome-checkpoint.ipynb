{
 "cells": [
  {
   "cell_type": "code",
   "execution_count": 165,
   "id": "8cbf5407-f066-4c8d-aaf6-e34c72822dc9",
   "metadata": {},
   "outputs": [],
   "source": [
    "import pandas as pd"
   ]
  },
  {
   "cell_type": "code",
   "execution_count": 166,
   "id": "657e0741-87bf-471b-b212-aa755b451692",
   "metadata": {},
   "outputs": [],
   "source": [
    "df = pd.read_csv(\"ACSST5Y2020.csv\", index_col=0)"
   ]
  },
  {
   "cell_type": "code",
   "execution_count": 167,
   "id": "d65e28ca-ac89-49e9-8898-088262734d4c",
   "metadata": {},
   "outputs": [],
   "source": [
    "dfname = df.iloc[::7]"
   ]
  },
  {
   "cell_type": "code",
   "execution_count": 168,
   "id": "a377326e-5377-4720-b098-d934147ee8eb",
   "metadata": {},
   "outputs": [],
   "source": [
    "dfname = dfname[:-1]"
   ]
  },
  {
   "cell_type": "code",
   "execution_count": 169,
   "id": "8bbeeb27-984e-4bcd-aed9-4d2c2ac0b69a",
   "metadata": {},
   "outputs": [],
   "source": [
    "dfmedian = df.iloc[6::7]"
   ]
  },
  {
   "cell_type": "code",
   "execution_count": 170,
   "id": "ac981f9c-7414-4f07-a183-bde09613e394",
   "metadata": {},
   "outputs": [],
   "source": [
    "dfmedian = dfmedian[:-1]"
   ]
  },
  {
   "cell_type": "code",
   "execution_count": 171,
   "id": "69e14d34-7732-48d4-8f87-2be27359793c",
   "metadata": {},
   "outputs": [],
   "source": [
    "df = dfmedian.set_index(dfname.index)"
   ]
  },
  {
   "cell_type": "code",
   "execution_count": 172,
   "id": "8725bae2-c775-4103-b3b5-49fabed29cc0",
   "metadata": {},
   "outputs": [],
   "source": [
    "df.index.name = 'Zip Code'"
   ]
  },
  {
   "cell_type": "code",
   "execution_count": 173,
   "id": "9dcba63b-e852-4c74-ae97-b8870e20cb53",
   "metadata": {},
   "outputs": [],
   "source": [
    "df = df.rename(columns={'HOUSEHOLD INCOME BY RACE AND HISPANIC OR LATINO ORIGIN OF HOUSEHOLDER!!Households': 'Median Income'})"
   ]
  },
  {
   "cell_type": "code",
   "execution_count": 174,
   "id": "4d771bde-f34c-45fc-8aaa-e7932939231e",
   "metadata": {},
   "outputs": [],
   "source": [
    "df = df.reset_index()"
   ]
  },
  {
   "cell_type": "code",
   "execution_count": 175,
   "id": "c49432ab-ae8f-4147-a114-1534b424679c",
   "metadata": {},
   "outputs": [],
   "source": [
    "dfzip = df['Zip Code']"
   ]
  },
  {
   "cell_type": "code",
   "execution_count": 176,
   "id": "0c129f1c-c082-4bd5-8aba-b8f6e9e2862d",
   "metadata": {},
   "outputs": [
    {
     "name": "stderr",
     "output_type": "stream",
     "text": [
      "/var/folders/v0/mczfyjnd3bb7356_x3gmplhw0000gn/T/ipykernel_51563/1938328725.py:2: SettingWithCopyWarning: \n",
      "A value is trying to be set on a copy of a slice from a DataFrame\n",
      "\n",
      "See the caveats in the documentation: https://pandas.pydata.org/pandas-docs/stable/user_guide/indexing.html#returning-a-view-versus-a-copy\n",
      "  dfzip[i] = val.split()[1]\n"
     ]
    }
   ],
   "source": [
    "for i, val in dfzip.items():\n",
    "    dfzip[i] = val.split()[1]"
   ]
  },
  {
   "cell_type": "code",
   "execution_count": 177,
   "id": "b7d0b6bf-bb69-405d-aeec-68f486a28878",
   "metadata": {},
   "outputs": [],
   "source": [
    "df['Zip Code'] = dfzip"
   ]
  },
  {
   "cell_type": "code",
   "execution_count": 178,
   "id": "41373cab-59df-465d-9e83-64f34363db85",
   "metadata": {},
   "outputs": [],
   "source": [
    "df = df[['Zip Code', 'Median Income']]"
   ]
  },
  {
   "cell_type": "code",
   "execution_count": 179,
   "id": "052fe597-2858-4275-8417-8f6febacaa4b",
   "metadata": {},
   "outputs": [
    {
     "name": "stderr",
     "output_type": "stream",
     "text": [
      "/var/folders/v0/mczfyjnd3bb7356_x3gmplhw0000gn/T/ipykernel_51563/2129624238.py:1: SettingWithCopyWarning: \n",
      "A value is trying to be set on a copy of a slice from a DataFrame.\n",
      "Try using .loc[row_indexer,col_indexer] = value instead\n",
      "\n",
      "See the caveats in the documentation: https://pandas.pydata.org/pandas-docs/stable/user_guide/indexing.html#returning-a-view-versus-a-copy\n",
      "  df['Median Income'] = df['Median Income'].str.replace(',', '')\n"
     ]
    }
   ],
   "source": [
    "df['Median Income'] = df['Median Income'].str.replace(',', '') "
   ]
  },
  {
   "cell_type": "code",
   "execution_count": 180,
   "id": "d3686a03-639c-4b63-90a0-051f8d41551f",
   "metadata": {},
   "outputs": [
    {
     "name": "stderr",
     "output_type": "stream",
     "text": [
      "/var/folders/v0/mczfyjnd3bb7356_x3gmplhw0000gn/T/ipykernel_51563/4007833040.py:1: SettingWithCopyWarning: \n",
      "A value is trying to be set on a copy of a slice from a DataFrame.\n",
      "Try using .loc[row_indexer,col_indexer] = value instead\n",
      "\n",
      "See the caveats in the documentation: https://pandas.pydata.org/pandas-docs/stable/user_guide/indexing.html#returning-a-view-versus-a-copy\n",
      "  df['Median Income'] = pd.to_numeric(df['Median Income'],errors='coerce')\n"
     ]
    }
   ],
   "source": [
    "df['Median Income'] = pd.to_numeric(df['Median Income'],errors='coerce')"
   ]
  },
  {
   "cell_type": "code",
   "execution_count": 181,
   "id": "1c12f12f-1b3e-4bc9-b3f8-92cff3d2250d",
   "metadata": {},
   "outputs": [
    {
     "name": "stderr",
     "output_type": "stream",
     "text": [
      "/var/folders/v0/mczfyjnd3bb7356_x3gmplhw0000gn/T/ipykernel_51563/3901893149.py:1: SettingWithCopyWarning: \n",
      "A value is trying to be set on a copy of a slice from a DataFrame.\n",
      "Try using .loc[row_indexer,col_indexer] = value instead\n",
      "\n",
      "See the caveats in the documentation: https://pandas.pydata.org/pandas-docs/stable/user_guide/indexing.html#returning-a-view-versus-a-copy\n",
      "  df['Zip Code'] = df['Zip Code'].astype(str)\n"
     ]
    }
   ],
   "source": [
    "df['Zip Code'] = df['Zip Code'].astype(str)"
   ]
  },
  {
   "cell_type": "code",
   "execution_count": 182,
   "id": "e889f5fb-1414-4f8c-b740-8ea4f7857f02",
   "metadata": {},
   "outputs": [],
   "source": [
    "df = df.dropna()"
   ]
  },
  {
   "cell_type": "code",
   "execution_count": 210,
   "id": "68a86c0f-b0ad-484f-9753-7d71c360e1ef",
   "metadata": {},
   "outputs": [],
   "source": [
    "datum = df.set_index('Zip Code').T.to_dict()"
   ]
  },
  {
   "cell_type": "code",
   "execution_count": 212,
   "id": "287703dc-eaeb-4686-a8aa-f43f0db88e07",
   "metadata": {},
   "outputs": [],
   "source": [
    "df = pd.DataFrame.from_dict(datum) \n",
    "df.to_csv('zipIncome.csv', index = False)"
   ]
  },
  {
   "cell_type": "code",
   "execution_count": null,
   "id": "11bd595a-08e7-492d-9c70-98d215933364",
   "metadata": {},
   "outputs": [],
   "source": []
  }
 ],
 "metadata": {
  "kernelspec": {
   "display_name": "Python 3 (ipykernel)",
   "language": "python",
   "name": "python3"
  },
  "language_info": {
   "codemirror_mode": {
    "name": "ipython",
    "version": 3
   },
   "file_extension": ".py",
   "mimetype": "text/x-python",
   "name": "python",
   "nbconvert_exporter": "python",
   "pygments_lexer": "ipython3",
   "version": "3.10.4"
  }
 },
 "nbformat": 4,
 "nbformat_minor": 5
}
