{
 "cells": [
  {
   "cell_type": "code",
   "execution_count": 1,
   "id": "8cbf5407-f066-4c8d-aaf6-e34c72822dc9",
   "metadata": {},
   "outputs": [],
   "source": [
    "import pandas as pd"
   ]
  },
  {
   "cell_type": "code",
   "execution_count": 2,
   "id": "657e0741-87bf-471b-b212-aa755b451692",
   "metadata": {},
   "outputs": [],
   "source": [
    "df = pd.read_csv(\"ACSST5Y2020.csv\", index_col=0)"
   ]
  },
  {
   "cell_type": "code",
   "execution_count": 3,
   "id": "d65e28ca-ac89-49e9-8898-088262734d4c",
   "metadata": {},
   "outputs": [],
   "source": [
    "dfname = df.iloc[::7]"
   ]
  },
  {
   "cell_type": "code",
   "execution_count": 4,
   "id": "a377326e-5377-4720-b098-d934147ee8eb",
   "metadata": {},
   "outputs": [],
   "source": [
    "dfname = dfname[:-1]"
   ]
  },
  {
   "cell_type": "code",
   "execution_count": 5,
   "id": "8bbeeb27-984e-4bcd-aed9-4d2c2ac0b69a",
   "metadata": {},
   "outputs": [],
   "source": [
    "dfmedian = df.iloc[6::7]"
   ]
  },
  {
   "cell_type": "code",
   "execution_count": 6,
   "id": "ac981f9c-7414-4f07-a183-bde09613e394",
   "metadata": {},
   "outputs": [],
   "source": [
    "dfmedian = dfmedian[:-1]"
   ]
  },
  {
   "cell_type": "code",
   "execution_count": 7,
   "id": "69e14d34-7732-48d4-8f87-2be27359793c",
   "metadata": {},
   "outputs": [],
   "source": [
    "df = dfmedian.set_index(dfname.index)"
   ]
  },
  {
   "cell_type": "code",
   "execution_count": 8,
   "id": "8725bae2-c775-4103-b3b5-49fabed29cc0",
   "metadata": {},
   "outputs": [],
   "source": [
    "df.index.name = 'Zip Code'"
   ]
  },
  {
   "cell_type": "code",
   "execution_count": 9,
   "id": "9dcba63b-e852-4c74-ae97-b8870e20cb53",
   "metadata": {},
   "outputs": [],
   "source": [
    "df = df.rename(columns={'HOUSEHOLD INCOME BY RACE AND HISPANIC OR LATINO ORIGIN OF HOUSEHOLDER!!Households': 'Median Income'})"
   ]
  },
  {
   "cell_type": "code",
   "execution_count": 10,
   "id": "4d771bde-f34c-45fc-8aaa-e7932939231e",
   "metadata": {},
   "outputs": [],
   "source": [
    "df = df.reset_index()"
   ]
  },
  {
   "cell_type": "code",
   "execution_count": 11,
   "id": "c49432ab-ae8f-4147-a114-1534b424679c",
   "metadata": {},
   "outputs": [],
   "source": [
    "dfzip = df['Zip Code']"
   ]
  },
  {
   "cell_type": "code",
   "execution_count": 12,
   "id": "0c129f1c-c082-4bd5-8aba-b8f6e9e2862d",
   "metadata": {},
   "outputs": [
    {
     "name": "stderr",
     "output_type": "stream",
     "text": [
      "/var/folders/v0/mczfyjnd3bb7356_x3gmplhw0000gn/T/ipykernel_60995/1938328725.py:2: SettingWithCopyWarning: \n",
      "A value is trying to be set on a copy of a slice from a DataFrame\n",
      "\n",
      "See the caveats in the documentation: https://pandas.pydata.org/pandas-docs/stable/user_guide/indexing.html#returning-a-view-versus-a-copy\n",
      "  dfzip[i] = val.split()[1]\n"
     ]
    }
   ],
   "source": [
    "for i, val in dfzip.items():\n",
    "    dfzip[i] = val.split()[1]"
   ]
  },
  {
   "cell_type": "code",
   "execution_count": 13,
   "id": "b7d0b6bf-bb69-405d-aeec-68f486a28878",
   "metadata": {},
   "outputs": [],
   "source": [
    "df['Zip Code'] = dfzip"
   ]
  },
  {
   "cell_type": "code",
   "execution_count": 14,
   "id": "41373cab-59df-465d-9e83-64f34363db85",
   "metadata": {},
   "outputs": [],
   "source": [
    "df = df[['Zip Code', 'Median Income']]"
   ]
  },
  {
   "cell_type": "code",
   "execution_count": 15,
   "id": "052fe597-2858-4275-8417-8f6febacaa4b",
   "metadata": {},
   "outputs": [
    {
     "name": "stderr",
     "output_type": "stream",
     "text": [
      "/var/folders/v0/mczfyjnd3bb7356_x3gmplhw0000gn/T/ipykernel_60995/2129624238.py:1: SettingWithCopyWarning: \n",
      "A value is trying to be set on a copy of a slice from a DataFrame.\n",
      "Try using .loc[row_indexer,col_indexer] = value instead\n",
      "\n",
      "See the caveats in the documentation: https://pandas.pydata.org/pandas-docs/stable/user_guide/indexing.html#returning-a-view-versus-a-copy\n",
      "  df['Median Income'] = df['Median Income'].str.replace(',', '')\n"
     ]
    }
   ],
   "source": [
    "df['Median Income'] = df['Median Income'].str.replace(',', '') "
   ]
  },
  {
   "cell_type": "code",
   "execution_count": 16,
   "id": "d3686a03-639c-4b63-90a0-051f8d41551f",
   "metadata": {},
   "outputs": [
    {
     "name": "stderr",
     "output_type": "stream",
     "text": [
      "/var/folders/v0/mczfyjnd3bb7356_x3gmplhw0000gn/T/ipykernel_60995/4007833040.py:1: SettingWithCopyWarning: \n",
      "A value is trying to be set on a copy of a slice from a DataFrame.\n",
      "Try using .loc[row_indexer,col_indexer] = value instead\n",
      "\n",
      "See the caveats in the documentation: https://pandas.pydata.org/pandas-docs/stable/user_guide/indexing.html#returning-a-view-versus-a-copy\n",
      "  df['Median Income'] = pd.to_numeric(df['Median Income'],errors='coerce')\n"
     ]
    }
   ],
   "source": [
    "df['Median Income'] = pd.to_numeric(df['Median Income'],errors='coerce')"
   ]
  },
  {
   "cell_type": "code",
   "execution_count": 17,
   "id": "1c12f12f-1b3e-4bc9-b3f8-92cff3d2250d",
   "metadata": {},
   "outputs": [
    {
     "name": "stderr",
     "output_type": "stream",
     "text": [
      "/var/folders/v0/mczfyjnd3bb7356_x3gmplhw0000gn/T/ipykernel_60995/3901893149.py:1: SettingWithCopyWarning: \n",
      "A value is trying to be set on a copy of a slice from a DataFrame.\n",
      "Try using .loc[row_indexer,col_indexer] = value instead\n",
      "\n",
      "See the caveats in the documentation: https://pandas.pydata.org/pandas-docs/stable/user_guide/indexing.html#returning-a-view-versus-a-copy\n",
      "  df['Zip Code'] = df['Zip Code'].astype(str)\n"
     ]
    }
   ],
   "source": [
    "df['Zip Code'] = df['Zip Code'].astype(str)"
   ]
  },
  {
   "cell_type": "code",
   "execution_count": 18,
   "id": "e889f5fb-1414-4f8c-b740-8ea4f7857f02",
   "metadata": {},
   "outputs": [],
   "source": [
    "df = df.dropna()"
   ]
  },
  {
   "cell_type": "code",
   "execution_count": 21,
   "id": "f1afaa91-0e9e-40e1-90d7-71400066ed3b",
   "metadata": {},
   "outputs": [
    {
     "data": {
      "text/html": [
       "<div>\n",
       "<style scoped>\n",
       "    .dataframe tbody tr th:only-of-type {\n",
       "        vertical-align: middle;\n",
       "    }\n",
       "\n",
       "    .dataframe tbody tr th {\n",
       "        vertical-align: top;\n",
       "    }\n",
       "\n",
       "    .dataframe thead th {\n",
       "        text-align: right;\n",
       "    }\n",
       "</style>\n",
       "<table border=\"1\" class=\"dataframe\">\n",
       "  <thead>\n",
       "    <tr style=\"text-align: right;\">\n",
       "      <th></th>\n",
       "      <th>Zip Code</th>\n",
       "      <th>Median Income</th>\n",
       "    </tr>\n",
       "  </thead>\n",
       "  <tbody>\n",
       "    <tr>\n",
       "      <th>0</th>\n",
       "      <td>89010</td>\n",
       "      <td>32847.0</td>\n",
       "    </tr>\n",
       "    <tr>\n",
       "      <th>1</th>\n",
       "      <td>89019</td>\n",
       "      <td>56765.0</td>\n",
       "    </tr>\n",
       "    <tr>\n",
       "      <th>2</th>\n",
       "      <td>89060</td>\n",
       "      <td>45833.0</td>\n",
       "    </tr>\n",
       "    <tr>\n",
       "      <th>3</th>\n",
       "      <td>89061</td>\n",
       "      <td>56865.0</td>\n",
       "    </tr>\n",
       "    <tr>\n",
       "      <th>4</th>\n",
       "      <td>89439</td>\n",
       "      <td>60547.0</td>\n",
       "    </tr>\n",
       "    <tr>\n",
       "      <th>...</th>\n",
       "      <td>...</td>\n",
       "      <td>...</td>\n",
       "    </tr>\n",
       "    <tr>\n",
       "      <th>1762</th>\n",
       "      <td>96145</td>\n",
       "      <td>84648.0</td>\n",
       "    </tr>\n",
       "    <tr>\n",
       "      <th>1763</th>\n",
       "      <td>96146</td>\n",
       "      <td>78409.0</td>\n",
       "    </tr>\n",
       "    <tr>\n",
       "      <th>1764</th>\n",
       "      <td>96148</td>\n",
       "      <td>81833.0</td>\n",
       "    </tr>\n",
       "    <tr>\n",
       "      <th>1765</th>\n",
       "      <td>96150</td>\n",
       "      <td>62541.0</td>\n",
       "    </tr>\n",
       "    <tr>\n",
       "      <th>1767</th>\n",
       "      <td>96161</td>\n",
       "      <td>100205.0</td>\n",
       "    </tr>\n",
       "  </tbody>\n",
       "</table>\n",
       "<p>1600 rows × 2 columns</p>\n",
       "</div>"
      ],
      "text/plain": [
       "     Zip Code  Median Income\n",
       "0       89010        32847.0\n",
       "1       89019        56765.0\n",
       "2       89060        45833.0\n",
       "3       89061        56865.0\n",
       "4       89439        60547.0\n",
       "...       ...            ...\n",
       "1762    96145        84648.0\n",
       "1763    96146        78409.0\n",
       "1764    96148        81833.0\n",
       "1765    96150        62541.0\n",
       "1767    96161       100205.0\n",
       "\n",
       "[1600 rows x 2 columns]"
      ]
     },
     "execution_count": 21,
     "metadata": {},
     "output_type": "execute_result"
    }
   ],
   "source": [
    "df"
   ]
  },
  {
   "cell_type": "code",
   "execution_count": 19,
   "id": "68a86c0f-b0ad-484f-9753-7d71c360e1ef",
   "metadata": {},
   "outputs": [],
   "source": [
    "datum = df.set_index('Zip Code').T.to_dict()"
   ]
  },
  {
   "cell_type": "code",
   "execution_count": 22,
   "id": "287703dc-eaeb-4686-a8aa-f43f0db88e07",
   "metadata": {},
   "outputs": [],
   "source": [
    "df = pd.DataFrame.from_dict(datum) \n",
    "\n",
    "df.to_csv('zipIncome.csv', index = False)"
   ]
  },
  {
   "cell_type": "code",
   "execution_count": null,
   "id": "11bd595a-08e7-492d-9c70-98d215933364",
   "metadata": {},
   "outputs": [],
   "source": []
  }
 ],
 "metadata": {
  "kernelspec": {
   "display_name": "Python 3 (ipykernel)",
   "language": "python",
   "name": "python3"
  },
  "language_info": {
   "codemirror_mode": {
    "name": "ipython",
    "version": 3
   },
   "file_extension": ".py",
   "mimetype": "text/x-python",
   "name": "python",
   "nbconvert_exporter": "python",
   "pygments_lexer": "ipython3",
   "version": "3.10.4"
  }
 },
 "nbformat": 4,
 "nbformat_minor": 5
}
